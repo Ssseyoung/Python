{
 "cells": [
  {
   "attachments": {},
   "cell_type": "markdown",
   "metadata": {},
   "source": [
    "### 셀레니움 설치"
   ]
  },
  {
   "attachments": {},
   "cell_type": "raw",
   "metadata": {},
   "source": [
    "# 셀레니움 설치\n",
    "pip install selenium\n",
    "\n",
    "# 설치 확인\n",
    "pip show selenium"
   ]
  },
  {
   "attachments": {},
   "cell_type": "markdown",
   "metadata": {},
   "source": [
    "### Webdriver 실행하기"
   ]
  },
  {
   "cell_type": "code",
   "execution_count": 12,
   "metadata": {},
   "outputs": [
    {
     "name": "stdout",
     "output_type": "stream",
     "text": [
      "WebDriver 객체 :  <class 'selenium.webdriver.chrome.webdriver.WebDriver'>\n"
     ]
    }
   ],
   "source": [
    "from selenium import webdriver\n",
    "driver = webdriver.Chrome()     # selenium 4.10\n",
    "print(\"WebDriver 객체 : \", type(driver))"
   ]
  },
  {
   "attachments": {},
   "cell_type": "markdown",
   "metadata": {},
   "source": [
    "### 구글 url 로 이동하기"
   ]
  },
  {
   "cell_type": "code",
   "execution_count": 13,
   "metadata": {},
   "outputs": [],
   "source": [
    "driver.get('http://www.google.com')"
   ]
  },
  {
   "attachments": {},
   "cell_type": "markdown",
   "metadata": {},
   "source": [
    "### 구글 검색창에 \"파이썬\" 입력하기"
   ]
  },
  {
   "cell_type": "code",
   "execution_count": 7,
   "metadata": {},
   "outputs": [
    {
     "name": "stdout",
     "output_type": "stream",
     "text": [
      "검색창 객체 :  <class 'selenium.webdriver.remote.webelement.WebElement'>\n"
     ]
    }
   ],
   "source": [
    "from selenium.webdriver.common.by import By\n",
    "\n",
    "# find_element( 선택 방식, 조건 )\n",
    "target = driver.find_element( By.CSS_SELECTOR, \"[name='q']\")        # 구글 검색창\n",
    "print('검색창 객체 : ', type(target))\n",
    "\n",
    "# send_keys('입력값') : 입력값을 지정한 요소(target)\n",
    "target.send_keys('파이썬')"
   ]
  },
  {
   "attachments": {},
   "cell_type": "markdown",
   "metadata": {},
   "source": [
    "## 구글 검색창에서 엔터 키 입력하기"
   ]
  },
  {
   "cell_type": "code",
   "execution_count": 8,
   "metadata": {},
   "outputs": [],
   "source": [
    "from selenium.webdriver.common.keys import Keys\n",
    "\n",
    "# target : 구글 검색창\n",
    "target.send_keys( Keys.ENTER )"
   ]
  },
  {
   "attachments": {},
   "cell_type": "markdown",
   "metadata": {},
   "source": [
    "### 웹 드라이버 종료"
   ]
  },
  {
   "cell_type": "code",
   "execution_count": 9,
   "metadata": {},
   "outputs": [],
   "source": [
    "driver.quit()"
   ]
  },
  {
   "attachments": {},
   "cell_type": "markdown",
   "metadata": {},
   "source": [
    "### 네이버 검색창에 \"여름\" 이라고 검색하기"
   ]
  },
  {
   "cell_type": "code",
   "execution_count": 18,
   "metadata": {},
   "outputs": [],
   "source": [
    "from selenium import webdriver\n",
    "from selenium.webdriver.common.keys import Keys\n",
    "from selenium.webdriver.common.by import By\n",
    "import time\n",
    "driver = webdriver.Chrome()\n",
    "\n",
    "# url 이동\n",
    "driver.get('http://www.naver.com')\n",
    "time.sleep(1)       # 1초간 기다리기\n",
    "# 검색창 선택\n",
    "target = driver.find_element( By.CSS_SELECTOR, '#query') \n",
    "# 검색어 \"여름\" 입력\n",
    "target.send_keys('여름')\n",
    "# 엔터 키 입력\n",
    "target.send_keys( Keys.ENTER )"
   ]
  },
  {
   "attachments": {},
   "cell_type": "markdown",
   "metadata": {},
   "source": [
    "### find_element() 함수 활용"
   ]
  },
  {
   "cell_type": "code",
   "execution_count": 47,
   "metadata": {},
   "outputs": [],
   "source": [
    "from selenium import webdriver\n",
    "from selenium.webdriver.common.keys import Keys\n",
    "from selenium.webdriver.common.by import By"
   ]
  },
  {
   "cell_type": "code",
   "execution_count": 48,
   "metadata": {},
   "outputs": [],
   "source": [
    "# 드라이버 실행\n",
    "driver = webdriver.Chrome()\n",
    "driver.get('http://www.naver.com')"
   ]
  },
  {
   "cell_type": "code",
   "execution_count": 49,
   "metadata": {},
   "outputs": [],
   "source": [
    "# ID 선택\n",
    "target = driver.find_element( By.ID, 'query' )"
   ]
  },
  {
   "cell_type": "code",
   "execution_count": 32,
   "metadata": {},
   "outputs": [],
   "source": [
    "# class 선택\n",
    "target = driver.find_element( By.CLASS_NAME, 'search_input' ) "
   ]
  },
  {
   "cell_type": "code",
   "execution_count": 33,
   "metadata": {},
   "outputs": [],
   "source": [
    "# CSS 선택자\n",
    "target = driver.find_element( By.CSS_SELECTOR, '#query' ) "
   ]
  },
  {
   "cell_type": "code",
   "execution_count": 34,
   "metadata": {},
   "outputs": [],
   "source": [
    "# 태그 이름 선택\n",
    "target = driver.find_element( By.TAG_NAME, 'title' )"
   ]
  },
  {
   "cell_type": "code",
   "execution_count": 50,
   "metadata": {},
   "outputs": [],
   "source": [
    "# 선택한 요소에 키 입력\n",
    "target.send_keys('키워드')"
   ]
  },
  {
   "cell_type": "code",
   "execution_count": null,
   "metadata": {},
   "outputs": [],
   "source": [
    "# 선택한 요소에 엔터 키\n",
    "target.send_keys(Keys.ENTER)"
   ]
  },
  {
   "attachments": {},
   "cell_type": "markdown",
   "metadata": {},
   "source": [
    "### 버튼 클릭하기"
   ]
  },
  {
   "cell_type": "code",
   "execution_count": 51,
   "metadata": {},
   "outputs": [],
   "source": [
    "target = driver.find_element( By.CSS_SELECTOR, '[class^=\"MyView-module__link_login\"]' )\n",
    "target.click()"
   ]
  },
  {
   "attachments": {},
   "cell_type": "markdown",
   "metadata": {},
   "source": [
    "# 페이징 처리된 데이터 크롤링하기 - 메가박스 영화 실관람평"
   ]
  },
  {
   "cell_type": "code",
   "execution_count": null,
   "metadata": {},
   "outputs": [],
   "source": [
    "from selenium import webdriver\n",
    "from selenium.webdriver.common.keys import Keys\n",
    "from selenium.webdriver.common.by import By\n",
    "import time\n",
    "\n",
    "url = 'https://www.megabox.co.kr/movie-detail/comment?rpstMovieNo=23034900'\n",
    "driver = webdriver.Chrome()\n",
    "driver.get(url)\n",
    "\n",
    "points = []\n",
    "recommends = []\n",
    "texts = []\n",
    "\n",
    "# 1 페이지 정보\n",
    "# extend() : 리스트에 다른 리스트의 모드 요소 추가\n",
    "story_points = [p.text for p in driver.find_elements( By.CLASS_NAME, 'story-point' )]\n",
    "points.extend(story_points)\n",
    "\n",
    "story_recommends = [r.text for r in driver.find_elements( By.CLASS_NAME, 'story-recommend' )]\n",
    "recommends.extend(story_recommends)\n",
    "\n",
    "story_txts = [t.text for t in driver.find_elements( By.CLASS_NAME, 'story-txt' )]\n",
    "texts.extend(story_txts)\n",
    "\n",
    "print(points)\n",
    "print(recommends)\n",
    "print(texts)\n",
    "print(len(points))\n",
    "print(len(recommends))\n",
    "print(len(texts))\n",
    "\n",
    "\n",
    "# 2 ~ 20 페이지 정보 동적으로 크롤링하기\n",
    "for page in range(2, 21):\n",
    "    \n",
    "    if page % 10 == 1:\n",
    "        page_next = driver.find_element( By.CSS_SELECTOR, '.control.next' )\n",
    "        page_next.click()\n",
    "    else:\n",
    "        page_next = driver.find_element( By.LINK_TEXT, str(page) )\n",
    "        page_next.click()\n",
    "        \n",
    "    driver.implicitly_wait(3)       # 페이지 로딩 시, 최대 3초간 기다리고 바로 넘어감\n",
    "    time.sleep(1)                   # 1초간 기다림\n",
    "\n",
    "    # 관람평 정보 가져오기\n",
    "    story_points = [p.text for p in driver.find_elements( By.CLASS_NAME, 'story-point' )]\n",
    "    points.extend(story_points)\n",
    "\n",
    "    story_recommends = [r.text for r in driver.find_elements( By.CLASS_NAME, 'story-recommend' )]\n",
    "    recommends.extend(story_recommends)\n",
    "\n",
    "    story_txts = [t.text for t in driver.find_elements( By.CLASS_NAME, 'story-txt' )]\n",
    "    texts.extend(story_txts)\n",
    "\n",
    "print(len(points))\n",
    "print(len(recommends))\n",
    "print(len(texts))\n",
    "\n",
    "\n",
    "# 수집한 데이터를 csv 파일로 저장\n",
    "with open('movie.csv', 'wt', encoding='utf-8') as f:\n",
    "    f.write('평점,추천,관람평\\n')\n",
    "    for p, r, t in zip( points, recommends, texts ):\n",
    "        f.write('{},{},{}'.format( p, r, t ) + '\\n')\n"
   ]
  },
  {
   "cell_type": "code",
   "execution_count": 44,
   "metadata": {},
   "outputs": [],
   "source": [
    "# a 태그의 텍스트로 요소를 선택\n",
    "page_two = driver.find_element(  )\n",
    "page_two.click()"
   ]
  },
  {
   "attachments": {},
   "cell_type": "markdown",
   "metadata": {},
   "source": [
    "### 무한 스크롤 페이지 크롤링 하기"
   ]
  },
  {
   "cell_type": "code",
   "execution_count": null,
   "metadata": {},
   "outputs": [],
   "source": [
    "from selenium import webdriver\n",
    "from selenium.webdriver.common.keys import Keys\n",
    "from selenium.webdriver.common.by import By\n",
    "import time\n",
    "\n",
    "driver = webdriver.Chrome()\n",
    "driver.get('http://map.naver.com')\n",
    "\n",
    "driver.implicitly_wait(2)\n",
    "\n",
    "# 검색창에 \"영등포 치킨\"\n",
    "target = driver.find_element( By.CSS_SELECTOR, \".input_search\" )\n",
    "\n",
    "target.send_keys(\"영등포 치킨\")\n",
    "target.send_keys(Keys.ENTER)\n",
    "\n",
    "# 프레임 변경하기\n",
    "driver.switch_to.frame(\"searchIframe\")    # iframe 태그의 id 로 프레임 전환\n",
    "\n",
    "while True : \n",
    "    names = driver.find_elements( By.CSS_SELECTOR, \".place_bluelink\")\n",
    "    categorys = driver.find_elements( By.CSS_SELECTOR, \".KCMnt\")\n",
    "    # addrs = driver.find_elements( By.CSS_SELECTOR, \"\")\n",
    "    \n",
    "    print(len(names))\n",
    "    print(len(categorys))\n",
    "    \n",
    "    if len(names) == 0:\n",
    "        print('데이터가 없습니다..')\n",
    "        break\n",
    "    \n",
    "    for i in range( len(names) ):\n",
    "        print('{}, {}'.format( names[i].text, categorys[i].text ))\n",
    "    \n",
    "    print('-----------------------')\n",
    "    \n",
    "    # 스크롤 내리기\n",
    "    selector = '#app-root > div > div.XUrfU > div.zRM9F > a:nth-child(7)'\n",
    "    \n",
    "    try :\n",
    "        btn_next = driver.find_element( By.CSS_SELECTOR, selector)\n",
    "    except :\n",
    "        print('마지막 페이지 입니다..')\n",
    "        break\n",
    "    btn_next.click()\n",
    "    time.sleep(1)"
   ]
  },
  {
   "attachments": {},
   "cell_type": "markdown",
   "metadata": {},
   "source": [
    "### 자바스크립트를 이용하여 처리하기"
   ]
  },
  {
   "cell_type": "code",
   "execution_count": 10,
   "metadata": {},
   "outputs": [],
   "source": [
    "driver.execute_script('alert(\"js\")')"
   ]
  },
  {
   "attachments": {},
   "cell_type": "markdown",
   "metadata": {},
   "source": [
    "# yes24 리뷰 가져오기"
   ]
  },
  {
   "cell_type": "code",
   "execution_count": null,
   "metadata": {},
   "outputs": [],
   "source": [
    "### 요소가 렌더링 될 때까지, 기다렸다가 처리하기\n",
    "\n",
    "from selenium import webdriver\n",
    "from selenium.webdriver.common.by import By\n",
    "import time\n",
    "\n",
    "url = 'https://www.yes24.com/Product/Goods/117014613'\n",
    "driver = webdriver.Chrome()\n",
    "driver.get(url)\n",
    "\n",
    "temp_list = []\n",
    "time.sleep(1)\n",
    "stop_flag = False\n",
    "\n",
    "while True:\n",
    "    \n",
    "    # 페이지 반복\n",
    "    for n in range(4, 13):      # n : 4 ~ 12\n",
    "        #[더 보기] 버튼\n",
    "        readmores = driver.find_elements( By.CSS_SELECTOR, '#infoset_reviewContentList .review_more')\n",
    "        for more in readmores:\n",
    "            # more.click()\n",
    "            # arguments[0] : more 요소를 가지고 arguments[0]로 첫번째 요소를 지정 \n",
    "            driver.execute_script('arguments[0].click()', more)\n",
    "            time.sleep(1)\n",
    "            \n",
    "        # 리뷰 내용\n",
    "        reviewList = driver.find_elements( By.CSS_SELECTOR, '#infoset_reviewContentList div.review_cont' ) \n",
    "        time.sleep(1)\n",
    "        \n",
    "        # 리뷰 내용 태그의 텍스트만 추출\n",
    "        for review in reviewList:\n",
    "            temp_list.append(review.text)\n",
    "            \n",
    "        # if len(reviewList) < 5:\n",
    "        if n == 12:\n",
    "            stop_flag = True\n",
    "            \n",
    "        if stop_flag == True:\n",
    "            break\n",
    "        \n",
    "        \n",
    "        # 다음 페이지로 이동\n",
    "        next_link = '#infoset_reviewContentList > div.review_sort.sortBot > div.review_sortLft > div > a:nth-child(' + str(n) +')'\n",
    "        page = driver.find_element( By.CSS_SELECTOR, next_link )\n",
    "        page.click()\n",
    "        time.sleep(1)\n",
    "        \n",
    "    # 페이지 이동 끝\n",
    "    if stop_flag:\n",
    "        break\n",
    "    \n",
    "print('크롤링 완료...')\n",
    "for item in temp_list:\n",
    "    print(item)\n"
   ]
  },
  {
   "attachments": {},
   "cell_type": "markdown",
   "metadata": {},
   "source": [
    "### 자바스크립트 사용하기"
   ]
  },
  {
   "cell_type": "code",
   "execution_count": 3,
   "metadata": {},
   "outputs": [],
   "source": [
    "from selenium import webdriver\n",
    "from selenium.webdriver.common.by import By\n",
    "import time\n",
    "\n",
    "url = 'http://192.168.0.200:8080/board/insert'\n",
    "driver = webdriver.Chrome()\n",
    "driver.get(url)\n",
    "\n",
    "# 제목, 작성자, 내용을 자바스크립트로 자동으로 글쓰기\n",
    "for i in range(1, 11):\n",
    "    script = f'''\n",
    "            let title = \"제목{i}\"\n",
    "            let writer = \"작성자\"\n",
    "            let content = \"내용\"\n",
    "            \n",
    "            let input_title = document.querySelector('[name=\"title\"]')\n",
    "            let input_writer = document.querySelector('[name=\"writer\"]')\n",
    "            let input_content = document.querySelector('[name=\"content\"]')\n",
    "            \n",
    "            input_title.value = title\n",
    "            input_writer.value = writer\n",
    "            input_content.value = content\n",
    "        \n",
    "            let btn_create = document.querySelector('[type=\"submit\"]') \n",
    "            btn_create.click()\n",
    "    '''\n",
    "    driver.execute_script(script)\n",
    "    time.sleep(1)\n",
    "    driver.get(url)\n",
    "\n",
    "url = 'http://192.168.0.200:8080/board/list'\n",
    "driver.get(url)"
   ]
  }
 ],
 "metadata": {
  "kernelspec": {
   "display_name": "Python 3",
   "language": "python",
   "name": "python3"
  },
  "language_info": {
   "codemirror_mode": {
    "name": "ipython",
    "version": 3
   },
   "file_extension": ".py",
   "mimetype": "text/x-python",
   "name": "python",
   "nbconvert_exporter": "python",
   "pygments_lexer": "ipython3",
   "version": "3.11.4"
  },
  "orig_nbformat": 4
 },
 "nbformat": 4,
 "nbformat_minor": 2
}
